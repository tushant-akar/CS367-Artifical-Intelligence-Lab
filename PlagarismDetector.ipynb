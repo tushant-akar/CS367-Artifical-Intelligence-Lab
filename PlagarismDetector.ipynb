{
  "nbformat": 4,
  "nbformat_minor": 0,
  "metadata": {
    "colab": {
      "provenance": [],
      "authorship_tag": "ABX9TyOa3ocU/jQe2BkXNf4YG8lT",
      "include_colab_link": true
    },
    "kernelspec": {
      "name": "python3",
      "display_name": "Python 3"
    },
    "language_info": {
      "name": "python"
    }
  },
  "cells": [
    {
      "cell_type": "markdown",
      "metadata": {
        "id": "view-in-github",
        "colab_type": "text"
      },
      "source": [
        "<a href=\"https://colab.research.google.com/github/tushant-akar/CS367-Artifical-Intelligence-Lab/blob/main/PlagarismDetector.ipynb\" target=\"_parent\"><img src=\"https://colab.research.google.com/assets/colab-badge.svg\" alt=\"Open In Colab\"/></a>"
      ]
    },
    {
      "cell_type": "code",
      "source": [
        "import nltk\n",
        "import string\n",
        "from queue import PriorityQueue\n",
        "\n",
        "nltk.download('punkt', quiet=True)"
      ],
      "metadata": {
        "colab": {
          "base_uri": "https://localhost:8080/"
        },
        "id": "VXTRSVS2mZCD",
        "outputId": "2d092ff3-b217-4a51-83ee-357449e6993a"
      },
      "execution_count": 1,
      "outputs": [
        {
          "output_type": "execute_result",
          "data": {
            "text/plain": [
              "True"
            ]
          },
          "metadata": {},
          "execution_count": 1
        }
      ]
    },
    {
      "cell_type": "code",
      "source": [
        "def preprocess_text(text):\n",
        "    sentences = nltk.sent_tokenize(text)\n",
        "    normalized_sentences = []\n",
        "    for sentence in sentences:\n",
        "        sentence = sentence.lower()\n",
        "        sentence = sentence.translate(str.maketrans('', '', string.punctuation))\n",
        "        normalized_sentences.append(sentence)\n",
        "    return normalized_sentences"
      ],
      "metadata": {
        "id": "yf0z5LyT6u_i"
      },
      "execution_count": 2,
      "outputs": []
    },
    {
      "cell_type": "code",
      "source": [
        "def levenshtein_distance(s1, s2):\n",
        "    if len(s1) < len(s2):\n",
        "        return levenshtein_distance(s2, s1)\n",
        "    if len(s2) == 0:\n",
        "        return len(s1)\n",
        "    previous_row = range(len(s2) + 1)\n",
        "    for i, c1 in enumerate(s1):\n",
        "        current_row = [i + 1]\n",
        "        for j, c2 in enumerate(s2):\n",
        "            insertions = previous_row[j + 1] + 1\n",
        "            deletions = current_row[j] + 1\n",
        "            substitutions = previous_row[j] + (c1 != c2)\n",
        "            current_row.append(min(insertions, deletions, substitutions))\n",
        "        previous_row = current_row\n",
        "    return previous_row[-1]"
      ],
      "metadata": {
        "id": "9S3dZH2563oQ"
      },
      "execution_count": 3,
      "outputs": []
    },
    {
      "cell_type": "code",
      "source": [
        "def heuristic(remaining_sentences1, remaining_sentences2):\n",
        "    if not remaining_sentences1 or not remaining_sentences2:\n",
        "        return sum(len(s) for s in remaining_sentences1 + remaining_sentences2)\n",
        "    return sum(min(levenshtein_distance(s1, s2) for s2 in remaining_sentences2) for s1 in remaining_sentences1)\n",
        "\n",
        "def a_star_alignment(sentences1, sentences2):\n",
        "    initial_state = (0, 0, 0, [])  # (pos1, pos2, cost, alignment)\n",
        "    frontier = PriorityQueue()\n",
        "    frontier.put((0, initial_state))\n",
        "\n",
        "    while not frontier.empty():\n",
        "        _, (pos1, pos2, cost, alignment) = frontier.get()\n",
        "\n",
        "        if pos1 == len(sentences1) and pos2 == len(sentences2):\n",
        "            return alignment\n",
        "\n",
        "        # Align current sentences\n",
        "        if pos1 < len(sentences1) and pos2 < len(sentences2):\n",
        "            new_cost = cost + levenshtein_distance(sentences1[pos1], sentences2[pos2])\n",
        "            new_alignment = alignment + [(pos1, pos2)]\n",
        "            h = heuristic(sentences1[pos1+1:], sentences2[pos2+1:])\n",
        "            frontier.put((new_cost + h, (pos1+1, pos2+1, new_cost, new_alignment)))\n",
        "\n",
        "        # Skip sentence in document 1\n",
        "        if pos1 < len(sentences1):\n",
        "            new_cost = cost + len(sentences1[pos1])\n",
        "            h = heuristic(sentences1[pos1+1:], sentences2[pos2:])\n",
        "            frontier.put((new_cost + h, (pos1+1, pos2, new_cost, alignment)))\n",
        "\n",
        "        # Skip sentence in document 2\n",
        "        if pos2 < len(sentences2):\n",
        "            new_cost = cost + len(sentences2[pos2])\n",
        "            h = heuristic(sentences1[pos1:], sentences2[pos2+1:])\n",
        "            frontier.put((new_cost + h, (pos1, pos2+1, new_cost, alignment)))\n",
        "\n",
        "    return []  # No alignment found"
      ],
      "metadata": {
        "id": "hSg8OAsQ67rj"
      },
      "execution_count": 4,
      "outputs": []
    },
    {
      "cell_type": "code",
      "source": [
        "def detect_plagiarism(doc1, doc2, threshold=0.7):\n",
        "    sentences1 = preprocess_text(doc1)\n",
        "    sentences2 = preprocess_text(doc2)\n",
        "\n",
        "    alignment = a_star_alignment(sentences1, sentences2)\n",
        "\n",
        "    plagiarism_cases = []\n",
        "    for i, j in alignment:\n",
        "        if i < len(sentences1) and j < len(sentences2):\n",
        "            distance = levenshtein_distance(sentences1[i], sentences2[j])\n",
        "            max_length = max(len(sentences1[i]), len(sentences2[j]))\n",
        "            similarity = 1 - (distance / max_length) if max_length > 0 else 1\n",
        "            plagiarism_cases.append((i, j, similarity, distance))\n",
        "\n",
        "    return plagiarism_cases"
      ],
      "metadata": {
        "id": "T8mDg3Lf6_bS"
      },
      "execution_count": 5,
      "outputs": []
    },
    {
      "cell_type": "code",
      "source": [
        "def run_test_case(doc1, doc2, case_name, expected_output):\n",
        "    print(f\"Test Case: {case_name}\")\n",
        "    print(\"Input:\")\n",
        "    print(f\"Document 1: {doc1}\")\n",
        "    print(f\"Document 2: {doc2}\")\n",
        "\n",
        "    plagiarism_cases = detect_plagiarism(doc1, doc2)\n",
        "\n",
        "    print(\"Actual Output:\")\n",
        "    if plagiarism_cases:\n",
        "        for i, j, similarity, distance in plagiarism_cases:\n",
        "            print(f\"Sentence {i+1} in Document 1 aligns with Sentence {j+1} in Document 2\")\n",
        "            print(f\"Similarity: {similarity:.2f}, Edit Distance: {distance}\")\n",
        "    else:\n",
        "        print(\"No significant alignments detected\")\n",
        "\n",
        "    print(\"\\nAnalysis:\")\n",
        "    avg_similarity = sum(sim for _, _, sim, _ in plagiarism_cases) / len(plagiarism_cases) if plagiarism_cases else 0\n",
        "    avg_distance = sum(dist for _, _, _, dist in plagiarism_cases) / len(plagiarism_cases) if plagiarism_cases else 0\n",
        "    print(f\"Average Similarity: {avg_similarity:.2f}\")\n",
        "    print(f\"Average Edit Distance: {avg_distance:.2f}\")\n",
        "\n",
        "    if avg_similarity > 0.9:\n",
        "        print(\"Conclusion: Identical or near-identical documents\")\n",
        "    elif avg_similarity > 0.7:\n",
        "        print(\"Conclusion: High likelihood of plagiarism\")\n",
        "    elif avg_similarity > 0.5:\n",
        "        print(\"Conclusion: Moderate likelihood of plagiarism or partial overlap\")\n",
        "    elif avg_similarity > 0.3:\n",
        "        print(\"Conclusion: Low likelihood of plagiarism\")\n",
        "    else:\n",
        "        print(\"Conclusion: No plagiarism detected\")\n",
        "    print()"
      ],
      "metadata": {
        "id": "IupZXABv7CLu"
      },
      "execution_count": 6,
      "outputs": []
    },
    {
      "cell_type": "code",
      "source": [
        "# Test cases\n",
        "print(\"Problem: Plagiarism Detection\")\n",
        "print(\"Implement a plagiarism detection system using sentence alignment and A* search.\")\n",
        "print()\n",
        "\n",
        "# Test Case 1: Identical Documents\n",
        "doc1 = \"This is a test document. It contains multiple sentences. We aim to detect plagiarism.\"\n",
        "doc2 = \"This is a test document. It contains multiple sentences. We aim to detect plagiarism.\"\n",
        "run_test_case(doc1, doc2, \"Identical Documents\", \"All sentences should align perfectly, with zero edit distance.\")\n",
        "\n",
        "# Test Case 2: Slightly Modified Document\n",
        "doc1 = \"This is an original document. It includes several important points. The goal is to identify similar content.\"\n",
        "doc2 = \"This is a original paper. It contains multiple important points. The goal is to detect similiar content.\"\n",
        "run_test_case(doc1, doc2, \"Slightly Modified Document\", \"Most sentences should align with a low edit distance.\")\n",
        "\n",
        "# Test Case 3: Completely Different Documents\n",
        "doc1 = \"Photosynthesis is a process used by plants. It converts light energy into chemical energy. This energy is stored as glucose.\"\n",
        "doc2 = \"Machine learning is a subset of AI. It focuses on algorithm development. These algorithms improve computer performance on specific tasks.\"\n",
        "run_test_case(doc1, doc2, \"Completely Different Documents\", \"High edit distances for most alignments, indicating no plagiarism.\")\n",
        "\n",
        "# Test Case 4: Partial Overlap\n",
        "doc1 = \"The rapid advancement of technology has significantly transformed the way we communicate. Social media platforms, in particular, have become central to modern communication, influencing both personal and professional interactions. This shift has created new opportunities for connectivity, but also presents challenges related to privacy and information overload.\"\n",
        "doc2 = \"ocial media platforms have fundamentally altered the landscape of communication in the digital age. While these advancements provide unprecedented opportunities for global connectivity, they also introduce complexities such as privacy concerns and the potential for information overload. The impact of technology on communication is profound, reshaping how we interact on both personal and professional levels.\"\n",
        "run_test_case(doc1, doc2, \"Partial Overlap\", \"The overlapping content should align with a low edit distance, indicating potential plagiarism.\")"
      ],
      "metadata": {
        "id": "kSOM1at17El5",
        "colab": {
          "base_uri": "https://localhost:8080/"
        },
        "outputId": "ad9d9e41-40ea-491d-ef34-32b44f3c4479"
      },
      "execution_count": 7,
      "outputs": [
        {
          "output_type": "stream",
          "name": "stdout",
          "text": [
            "Problem: Plagiarism Detection\n",
            "Implement a plagiarism detection system using sentence alignment and A* search.\n",
            "\n",
            "Test Case: Identical Documents\n",
            "Input:\n",
            "Document 1: This is a test document. It contains multiple sentences. We aim to detect plagiarism.\n",
            "Document 2: This is a test document. It contains multiple sentences. We aim to detect plagiarism.\n",
            "Actual Output:\n",
            "Sentence 1 in Document 1 aligns with Sentence 1 in Document 2\n",
            "Similarity: 1.00, Edit Distance: 0\n",
            "Sentence 2 in Document 1 aligns with Sentence 2 in Document 2\n",
            "Similarity: 1.00, Edit Distance: 0\n",
            "Sentence 3 in Document 1 aligns with Sentence 3 in Document 2\n",
            "Similarity: 1.00, Edit Distance: 0\n",
            "\n",
            "Analysis:\n",
            "Average Similarity: 1.00\n",
            "Average Edit Distance: 0.00\n",
            "Conclusion: Identical or near-identical documents\n",
            "\n",
            "Test Case: Slightly Modified Document\n",
            "Input:\n",
            "Document 1: This is an original document. It includes several important points. The goal is to identify similar content.\n",
            "Document 2: This is a original paper. It contains multiple important points. The goal is to detect similiar content.\n",
            "Actual Output:\n",
            "Sentence 1 in Document 1 aligns with Sentence 1 in Document 2\n",
            "Similarity: 0.71, Edit Distance: 8\n",
            "Sentence 2 in Document 1 aligns with Sentence 2 in Document 2\n",
            "Similarity: 0.62, Edit Distance: 14\n",
            "Sentence 3 in Document 1 aligns with Sentence 3 in Document 2\n",
            "Similarity: 0.85, Edit Distance: 6\n",
            "\n",
            "Analysis:\n",
            "Average Similarity: 0.73\n",
            "Average Edit Distance: 9.33\n",
            "Conclusion: High likelihood of plagiarism\n",
            "\n",
            "Test Case: Completely Different Documents\n",
            "Input:\n",
            "Document 1: Photosynthesis is a process used by plants. It converts light energy into chemical energy. This energy is stored as glucose.\n",
            "Document 2: Machine learning is a subset of AI. It focuses on algorithm development. These algorithms improve computer performance on specific tasks.\n",
            "Actual Output:\n",
            "Sentence 1 in Document 1 aligns with Sentence 1 in Document 2\n",
            "Similarity: 0.26, Edit Distance: 31\n",
            "Sentence 2 in Document 1 aligns with Sentence 2 in Document 2\n",
            "Similarity: 0.29, Edit Distance: 32\n",
            "Sentence 3 in Document 1 aligns with Sentence 3 in Document 2\n",
            "Similarity: 0.24, Edit Distance: 48\n",
            "\n",
            "Analysis:\n",
            "Average Similarity: 0.26\n",
            "Average Edit Distance: 37.00\n",
            "Conclusion: No plagiarism detected\n",
            "\n",
            "Test Case: Partial Overlap\n",
            "Input:\n",
            "Document 1: The rapid advancement of technology has significantly transformed the way we communicate. Social media platforms, in particular, have become central to modern communication, influencing both personal and professional interactions. This shift has created new opportunities for connectivity, but also presents challenges related to privacy and information overload.\n",
            "Document 2: ocial media platforms have fundamentally altered the landscape of communication in the digital age. While these advancements provide unprecedented opportunities for global connectivity, they also introduce complexities such as privacy concerns and the potential for information overload. The impact of technology on communication is profound, reshaping how we interact on both personal and professional levels.\n",
            "Actual Output:\n",
            "Sentence 1 in Document 1 aligns with Sentence 1 in Document 2\n",
            "Similarity: 0.19, Edit Distance: 79\n",
            "Sentence 2 in Document 1 aligns with Sentence 2 in Document 2\n",
            "Similarity: 0.27, Edit Distance: 135\n",
            "Sentence 3 in Document 1 aligns with Sentence 3 in Document 2\n",
            "Similarity: 0.25, Edit Distance: 97\n",
            "\n",
            "Analysis:\n",
            "Average Similarity: 0.24\n",
            "Average Edit Distance: 103.67\n",
            "Conclusion: No plagiarism detected\n",
            "\n"
          ]
        }
      ]
    }
  ]
}