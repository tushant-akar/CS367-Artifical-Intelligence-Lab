{
  "nbformat": 4,
  "nbformat_minor": 0,
  "metadata": {
    "colab": {
      "provenance": [],
      "authorship_tag": "ABX9TyMlk+w/yIMIWJ7MPJPRqY6e",
      "include_colab_link": true
    },
    "kernelspec": {
      "name": "python3",
      "display_name": "Python 3"
    },
    "language_info": {
      "name": "python"
    }
  },
  "cells": [
    {
      "cell_type": "markdown",
      "metadata": {
        "id": "view-in-github",
        "colab_type": "text"
      },
      "source": [
        "<a href=\"https://colab.research.google.com/github/tushant-akar/CS367-Artifical-Intelligence-Lab/blob/main/Eight_rook_Problem_(Lab_6_Problem_4).ipynb\" target=\"_parent\"><img src=\"https://colab.research.google.com/assets/colab-badge.svg\" alt=\"Open In Colab\"/></a>"
      ]
    },
    {
      "cell_type": "code",
      "execution_count": 62,
      "metadata": {
        "id": "y0qvQUymgL-2"
      },
      "outputs": [],
      "source": [
        "import numpy as np\n",
        "import matplotlib.pyplot as plt\n",
        "\n",
        "N = 8\n",
        "iterations = 10000"
      ]
    },
    {
      "cell_type": "code",
      "source": [
        "def activation(x, threshold = 0, steepness = 4):\n",
        "    return 1 / (1 + np.exp(-steepness * (x - threshold)))"
      ],
      "metadata": {
        "id": "abkcskY2rBeD"
      },
      "execution_count": 71,
      "outputs": []
    },
    {
      "cell_type": "code",
      "source": [
        "def energy(state_matrix):\n",
        "    row_conflicts = sum(np.sum(state_matrix, axis=1) - 1)\n",
        "    col_conflicts = sum(np.sum(state_matrix, axis=0) - 1)\n",
        "    total_conflicts = row_conflicts + col_conflicts\n",
        "    return total_conflicts"
      ],
      "metadata": {
        "id": "Fc7U4MQSzxia"
      },
      "execution_count": 72,
      "outputs": []
    },
    {
      "cell_type": "code",
      "source": [
        "def enforce_constraints(state):\n",
        "    state_matrix = state.reshape((N, N))\n",
        "    for i in range(N):\n",
        "        if np.sum(state_matrix[i]) != 1:\n",
        "            state_matrix[i] = 0\n",
        "            state_matrix[i, np.random.randint(N)] = 1\n",
        "    for j in range(N):\n",
        "        if np.sum(state_matrix[:, j]) != 1:\n",
        "            state_matrix[:, j] = 0\n",
        "            state_matrix[np.random.randint(N), j] = 1\n",
        "    return state_matrix.flatten()"
      ],
      "metadata": {
        "id": "QyAIPOxvz2FD"
      },
      "execution_count": 73,
      "outputs": []
    },
    {
      "cell_type": "code",
      "source": [
        "def is_valid_solution(state_matrix):\n",
        "    return all(np.sum(state_matrix, axis=1) == 1) and all(np.sum(state_matrix, axis=0) == 1)"
      ],
      "metadata": {
        "id": "Vm9fo5V2z4z_"
      },
      "execution_count": 74,
      "outputs": []
    },
    {
      "cell_type": "code",
      "source": [
        "def plot_solution(state_matrix, energy_value, valid):\n",
        "    plt.figure(figsize=(8, 8))\n",
        "    for i in range(N):\n",
        "        for j in range(N):\n",
        "            color = 'white' if (i + j) % 2 == 0 else 'gray'\n",
        "            plt.gca().add_patch(plt.Rectangle((j, N - i - 1), 1, 1, color=color))\n",
        "            if state_matrix[i, j] == 1:\n",
        "                plt.text(j + 0.5, N - i - 1 + 0.5, '♖', fontsize=24, ha='center', va='center', color='black')\n",
        "\n",
        "    plt.xlim(0, N)\n",
        "    plt.ylim(0, N)\n",
        "    plt.xticks([])\n",
        "    plt.yticks([])\n",
        "    plt.gca().set_aspect('equal', adjustable='box')\n",
        "    plt.title(f\"Eight-Rook Problem Solution\\nEnergy: {energy_value:.2f} | Valid: {valid}\", fontsize=16, color='green' if valid else 'red')\n",
        "    plt.show()"
      ],
      "metadata": {
        "id": "-Ra1WDgKz-eX"
      },
      "execution_count": 75,
      "outputs": []
    },
    {
      "cell_type": "code",
      "source": [
        "def hopfield_network(N, iterations=10000, threshold = 0, steepness = 2):\n",
        "    state = np.zeros(N**2)\n",
        "    for i in range(N):\n",
        "        state[i * N + np.random.randint(N)] = 1\n",
        "    state = enforce_constraints(state)\n",
        "\n",
        "    best_state = state.copy()\n",
        "    state_matrix = state.reshape((N, N))\n",
        "    best_energy = energy(state_matrix)\n",
        "\n",
        "    for _ in range(iterations):\n",
        "        for neuron in np.random.permutation(N**2):\n",
        "            input_sum = np.sum(state_matrix, axis=1)[neuron // N] + np.sum(state_matrix, axis=0)[neuron % N]\n",
        "            probability = activation(input_sum - 1, threshold=threshold, steepness=steepness)\n",
        "            state[neuron] = 1 if np.random.rand() < probability else 0\n",
        "\n",
        "        state = enforce_constraints(state)\n",
        "        state_matrix = state.reshape((N, N))\n",
        "        current_energy = energy(state_matrix)\n",
        "\n",
        "        if current_energy < best_energy:\n",
        "            best_energy = current_energy\n",
        "            best_state = state.copy()\n",
        "\n",
        "        if is_valid_solution(state_matrix):\n",
        "            return state_matrix, best_energy\n",
        "\n",
        "    return best_state.reshape((N, N)), best_energy"
      ],
      "metadata": {
        "id": "UjkBIz8W0BFs"
      },
      "execution_count": 80,
      "outputs": []
    },
    {
      "cell_type": "code",
      "source": [
        "solution, solution_energy = hopfield_network(N, iterations)\n",
        "\n",
        "valid_solution = is_valid_solution(solution)\n",
        "plot_solution(solution, solution_energy, valid_solution)"
      ],
      "metadata": {
        "colab": {
          "base_uri": "https://localhost:8080/",
          "height": 700
        },
        "id": "k8zGvgtJ0DEM",
        "outputId": "25fd72b3-86da-49ac-e3bf-24eedae6bb7c"
      },
      "execution_count": 81,
      "outputs": [
        {
          "output_type": "display_data",
          "data": {
            "text/plain": [
              "<Figure size 800x800 with 1 Axes>"
            ],
            "image/png": "[encoded data removed]"
          },
          "metadata": {}
        }
      ]
    }
  ]
}