{
  "nbformat": 4,
  "nbformat_minor": 0,
  "metadata": {
    "colab": {
      "provenance": [],
      "authorship_tag": "ABX9TyP+LTtEnhI3JLAp7lBlU8Ha",
      "include_colab_link": true
    },
    "kernelspec": {
      "name": "python3",
      "display_name": "Python 3"
    },
    "language_info": {
      "name": "python"
    }
  },
  "cells": [
    {
      "cell_type": "markdown",
      "metadata": {
        "id": "view-in-github",
        "colab_type": "text"
      },
      "source": [
        "<a href=\"https://colab.research.google.com/github/tushant-akar/CS367-Artifical-Intelligence-Lab/blob/main/Missionaries_Cannibel.ipynb\" target=\"_parent\"><img src=\"https://colab.research.google.com/assets/colab-badge.svg\" alt=\"Open In Colab\"/></a>"
      ]
    },
    {
      "cell_type": "code",
      "execution_count": 1,
      "metadata": {
        "id": "4SzIeCOw8umc"
      },
      "outputs": [],
      "source": [
        "from collections import deque"
      ]
    },
    {
      "cell_type": "code",
      "source": [
        "def is_valid(state):\n",
        "    missionaries, cannibals, boat = state\n",
        "    if missionaries < 0 or cannibals < 0 or missionaries > 3 or cannibals > 3:\n",
        "        return False\n",
        "    if missionaries > 0 and missionaries < cannibals:\n",
        "        return False\n",
        "    if 3 - missionaries > 0 and 3 - missionaries < 3 - cannibals:\n",
        "        return False\n",
        "    return True"
      ],
      "metadata": {
        "id": "5YfVG9ki8yH1"
      },
      "execution_count": 4,
      "outputs": []
    },
    {
      "cell_type": "code",
      "source": [
        "def get_successors(state):\n",
        "    successors = []\n",
        "    missionaries, cannibals, boat = state\n",
        "    if boat == 1:\n",
        "        moves = [(2, 0), (0, 2), (1, 1), (1, 0), (0, 1)]\n",
        "        for move in moves:\n",
        "            new_state = (missionaries - move[0], cannibals - move[1], 0)\n",
        "            if is_valid(new_state):\n",
        "                successors.append(new_state)\n",
        "    else:\n",
        "        moves = [(2, 0), (0, 2), (1, 1), (1, 0), (0, 1)]\n",
        "        for move in moves:\n",
        "            new_state = (missionaries + move[0], cannibals + move[1], 1)\n",
        "            if is_valid(new_state):\n",
        "                successors.append(new_state)\n",
        "    return successors"
      ],
      "metadata": {
        "id": "8qv2UBMu847c"
      },
      "execution_count": 5,
      "outputs": []
    },
    {
      "cell_type": "code",
      "source": [
        "def bfs(start_state, goal_state):\n",
        "    queue = deque([(start_state, [])])\n",
        "    visited = set()\n",
        "    nodes_explored = 0  # Count nodes explored\n",
        "    while queue:\n",
        "        state, path = queue.popleft()\n",
        "        # Increment the count for each state processed\n",
        "        if state in visited:\n",
        "            continue\n",
        "        visited.add(state)\n",
        "        nodes_explored += 1\n",
        "        path = path + [state]\n",
        "        if state == goal_state:\n",
        "            return path, nodes_explored\n",
        "        for successor in get_successors(state):\n",
        "            if successor not in visited:\n",
        "                queue.append((successor, path))\n",
        "    return None, nodes_explored"
      ],
      "metadata": {
        "id": "2ZzfLNB79HDM"
      },
      "execution_count": 6,
      "outputs": []
    },
    {
      "cell_type": "code",
      "source": [
        "def dfs(start_state, goal_state):\n",
        "    stack = deque([(start_state, [])])\n",
        "    visited = set()\n",
        "    nodes_explored = 0  # Count nodes explored\n",
        "    while stack:\n",
        "        state, path = stack.pop()\n",
        "        nodes_explored += 1  # Increment the count for each state processed\n",
        "        if state in visited:\n",
        "            continue\n",
        "        visited.add(state)\n",
        "        path = path + [state]\n",
        "        if state == goal_state:\n",
        "            return path, nodes_explored\n",
        "        for successor in get_successors(state):\n",
        "            if successor not in visited:\n",
        "                stack.append((successor, path))\n",
        "    return None, nodes_explored"
      ],
      "metadata": {
        "id": "Y0UYy_DD9SZR"
      },
      "execution_count": 8,
      "outputs": []
    },
    {
      "cell_type": "code",
      "source": [
        "start_state = (3, 3, 1)\n",
        "goal_state = (0, 0, 0)\n",
        "\n",
        "bfs_solution, bfs_nodes = bfs(start_state, goal_state)\n",
        "if bfs_solution:\n",
        "    print(\"BFS Solution found:\")\n",
        "    for step in bfs_solution:\n",
        "        print(step)\n",
        "else:\n",
        "    print(\"BFS No solution found.\")\n",
        "print(f\"BFS Nodes Explored: {bfs_nodes}\")"
      ],
      "metadata": {
        "colab": {
          "base_uri": "https://localhost:8080/"
        },
        "id": "qbBo7pQZ9I9H",
        "outputId": "c8e4f7b7-b58c-4c87-ef26-0d687bb31e8f"
      },
      "execution_count": 10,
      "outputs": [
        {
          "output_type": "stream",
          "name": "stdout",
          "text": [
            "BFS Solution found:\n",
            "(3, 3, 1)\n",
            "(3, 1, 0)\n",
            "(3, 2, 1)\n",
            "(3, 0, 0)\n",
            "(3, 1, 1)\n",
            "(1, 1, 0)\n",
            "(2, 2, 1)\n",
            "(0, 2, 0)\n",
            "(0, 3, 1)\n",
            "(0, 1, 0)\n",
            "(1, 1, 1)\n",
            "(0, 0, 0)\n",
            "BFS Nodes Explored: 15\n"
          ]
        }
      ]
    },
    {
      "cell_type": "code",
      "source": [
        "start_state = (3, 3, 1)\n",
        "goal_state = (0, 0, 0)\n",
        "\n",
        "dfs_solution, dfs_nodes = dfs(start_state, goal_state)\n",
        "if dfs_solution:\n",
        "    print(\"DFS Solution found:\")\n",
        "    for step in dfs_solution:\n",
        "        print(step)\n",
        "else:\n",
        "    print(\"DFS No solution found.\")\n",
        "print(f\"DFS Nodes Explored: {dfs_nodes}\")"
      ],
      "metadata": {
        "colab": {
          "base_uri": "https://localhost:8080/"
        },
        "id": "WlNve6Ys9JZg",
        "outputId": "5bcdcd69-eb88-4e36-f386-4899ba00e76d"
      },
      "execution_count": 11,
      "outputs": [
        {
          "output_type": "stream",
          "name": "stdout",
          "text": [
            "DFS Solution found:\n",
            "(3, 3, 1)\n",
            "(2, 2, 0)\n",
            "(3, 2, 1)\n",
            "(3, 0, 0)\n",
            "(3, 1, 1)\n",
            "(1, 1, 0)\n",
            "(2, 2, 1)\n",
            "(0, 2, 0)\n",
            "(0, 3, 1)\n",
            "(0, 1, 0)\n",
            "(0, 2, 1)\n",
            "(0, 0, 0)\n",
            "DFS Nodes Explored: 14\n"
          ]
        }
      ]
    }
  ]
}