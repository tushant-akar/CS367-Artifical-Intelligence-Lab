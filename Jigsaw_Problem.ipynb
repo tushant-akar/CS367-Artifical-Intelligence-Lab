{
  "nbformat": 4,
  "nbformat_minor": 0,
  "metadata": {
    "colab": {
      "provenance": [],
      "authorship_tag": "ABX9TyOVPa+OYf8ZTtO7jE4d8Eq5",
      "include_colab_link": true
    },
    "kernelspec": {
      "name": "python3",
      "display_name": "Python 3"
    },
    "language_info": {
      "name": "python"
    }
  },
  "cells": [
    {
      "cell_type": "markdown",
      "metadata": {
        "id": "view-in-github",
        "colab_type": "text"
      },
      "source": [
        "<a href=\"https://colab.research.google.com/github/tushant-akar/CS367-Artifical-Intelligence-Lab/blob/main/Jigsaw_Problem.ipynb\" target=\"_parent\"><img src=\"https://colab.research.google.com/assets/colab-badge.svg\" alt=\"Open In Colab\"/></a>"
      ]
    },
    {
      "cell_type": "code",
      "source": [
        "import numpy as np\n",
        "import random\n",
        "import math\n",
        "import matplotlib.pyplot as plt"
      ],
      "metadata": {
        "id": "klHYz7Y9wGyz"
      },
      "execution_count": 5,
      "outputs": []
    },
    {
      "cell_type": "code",
      "source": [
        "def create_puzzle(N):\n",
        "    puzzle = np.arange(N * N).reshape((N, N))\n",
        "    np.random.shuffle(puzzle.flat)\n",
        "    return puzzle"
      ],
      "metadata": {
        "id": "UQziWm1-1kFm"
      },
      "execution_count": 6,
      "outputs": []
    },
    {
      "cell_type": "code",
      "source": [
        "def calculate_energy(puzzle, N):\n",
        "    energy = 0\n",
        "    for i in range(N):\n",
        "        for j in range(N):\n",
        "            if j < N - 1:\n",
        "                energy += abs(puzzle[i, j] - puzzle[i, j + 1])\n",
        "            if i < N - 1:\n",
        "                energy += abs(puzzle[i, j] - puzzle[i + 1, j])\n",
        "    return energy"
      ],
      "metadata": {
        "id": "xZVDIYcn15GB"
      },
      "execution_count": 7,
      "outputs": []
    },
    {
      "cell_type": "code",
      "source": [
        "def simulated_annealing(puzzle, N, max_iterations, initial_temp, cooling_rate):\n",
        "    current_puzzle = puzzle.copy()\n",
        "    current_energy = calculate_energy(current_puzzle, N)\n",
        "    temperature = initial_temp\n",
        "\n",
        "    for iteration in range(max_iterations):\n",
        "        i1, j1, i2, j2 = random.randint(0, N - 1), random.randint(0, N - 1), random.randint(0, N - 1), random.randint(0, N - 1)\n",
        "\n",
        "        new_puzzle = current_puzzle.copy()\n",
        "        new_puzzle[i1, j1], new_puzzle[i2, j2] = new_puzzle[i2, j2], new_puzzle[i1, j1]\n",
        "\n",
        "        new_energy = calculate_energy(new_puzzle, N)\n",
        "\n",
        "        if new_energy < current_energy or random.uniform(0, 1) < math.exp((current_energy - new_energy) / temperature):\n",
        "            current_puzzle = new_puzzle\n",
        "            current_energy = new_energy\n",
        "\n",
        "        temperature *= cooling_rate\n",
        "\n",
        "        if iteration % 100 == 0:\n",
        "            print(f\"Iteration {iteration}, Energy: {current_energy}\")\n",
        "\n",
        "        if current_energy == 0:\n",
        "            break\n",
        "\n",
        "    return current_puzzle"
      ],
      "metadata": {
        "id": "ihVfFefw19VY"
      },
      "execution_count": 8,
      "outputs": []
    },
    {
      "cell_type": "code",
      "source": [
        "def display_puzzle(puzzle):\n",
        "    plt.imshow(puzzle, cmap='gray')\n",
        "    plt.show()"
      ],
      "metadata": {
        "id": "_PECafnr2ET9"
      },
      "execution_count": 9,
      "outputs": []
    },
    {
      "cell_type": "code",
      "source": [
        "if __name__ == \"__main__\":\n",
        "    N = 5\n",
        "    max_iterations = 10000\n",
        "    initial_temp = 500\n",
        "    cooling_rate = 0.45\n",
        "\n",
        "    puzzle = create_puzzle(N)\n",
        "    print(\"Initial Puzzle:\")\n",
        "    display_puzzle(puzzle)\n",
        "\n",
        "    solved_puzzle = simulated_annealing(puzzle, N, max_iterations, initial_temp, cooling_rate)\n",
        "\n",
        "    print(\"Solved Puzzle:\")\n",
        "    display_puzzle(solved_puzzle)"
      ],
      "metadata": {
        "colab": {
          "base_uri": "https://localhost:8080/",
          "height": 1000
        },
        "id": "83pHnDKx2GU7",
        "outputId": "e8820919-0ba7-43a3-fd72-6f859cb4db8f"
      },
      "execution_count": 10,
      "outputs": [
        {
          "output_type": "stream",
          "name": "stderr",
          "text": [
            "<ipython-input-6-d7eeea5b3f94>:3: UserWarning: you are shuffling a 'flatiter' object which is not a subclass of 'Sequence'; `shuffle` is not guaranteed to behave correctly. E.g., non-numpy array/tensor objects with view semantics may contain duplicates after shuffling.\n",
            "  np.random.shuffle(puzzle.flat)\n"
          ]
        },
        {
          "output_type": "stream",
          "name": "stdout",
          "text": [
            "Initial Puzzle:\n"
          ]
        },
        {
          "output_type": "display_data",
          "data": {
            "text/plain": [
              "<Figure size 640x480 with 1 Axes>"
            ],
            "image/png": "[encoded data removed]"
          },
          "metadata": {}
        },
        {
          "output_type": "stream",
          "name": "stdout",
          "text": [
            "Iteration 0, Energy: 344\n",
            "Iteration 100, Energy: 193\n",
            "Iteration 200, Energy: 181\n",
            "Iteration 300, Energy: 174\n",
            "Iteration 400, Energy: 172\n",
            "Iteration 500, Energy: 170\n",
            "Iteration 600, Energy: 162\n",
            "Iteration 700, Energy: 159\n",
            "Iteration 800, Energy: 154\n",
            "Iteration 900, Energy: 152\n",
            "Iteration 1000, Energy: 152\n",
            "Iteration 1100, Energy: 150\n",
            "Iteration 1200, Energy: 149\n",
            "Iteration 1300, Energy: 149\n",
            "Iteration 1400, Energy: 149\n",
            "Iteration 1500, Energy: 149\n",
            "Iteration 1600, Energy: 149\n",
            "Iteration 1700, Energy: 149\n",
            "Iteration 1800, Energy: 149\n",
            "Iteration 1900, Energy: 149\n",
            "Iteration 2000, Energy: 149\n",
            "Iteration 2100, Energy: 149\n",
            "Iteration 2200, Energy: 149\n",
            "Iteration 2300, Energy: 149\n",
            "Iteration 2400, Energy: 149\n",
            "Iteration 2500, Energy: 149\n",
            "Iteration 2600, Energy: 149\n"
          ]
        },
        {
          "output_type": "stream",
          "name": "stderr",
          "text": [
            "<ipython-input-8-9e7b9e2e51b8>:14: RuntimeWarning: overflow encountered in divide\n",
            "  if new_energy < current_energy or random.uniform(0, 1) < math.exp((current_energy - new_energy) / temperature):\n",
            "<ipython-input-8-9e7b9e2e51b8>:14: RuntimeWarning: divide by zero encountered in divide\n",
            "  if new_energy < current_energy or random.uniform(0, 1) < math.exp((current_energy - new_energy) / temperature):\n",
            "<ipython-input-8-9e7b9e2e51b8>:14: RuntimeWarning: invalid value encountered in divide\n",
            "  if new_energy < current_energy or random.uniform(0, 1) < math.exp((current_energy - new_energy) / temperature):\n"
          ]
        },
        {
          "output_type": "stream",
          "name": "stdout",
          "text": [
            "Iteration 2700, Energy: 149\n",
            "Iteration 2800, Energy: 149\n",
            "Iteration 2900, Energy: 149\n",
            "Iteration 3000, Energy: 149\n",
            "Iteration 3100, Energy: 149\n",
            "Iteration 3200, Energy: 149\n",
            "Iteration 3300, Energy: 149\n",
            "Iteration 3400, Energy: 149\n",
            "Iteration 3500, Energy: 149\n",
            "Iteration 3600, Energy: 149\n",
            "Iteration 3700, Energy: 149\n",
            "Iteration 3800, Energy: 149\n",
            "Iteration 3900, Energy: 149\n",
            "Iteration 4000, Energy: 149\n",
            "Iteration 4100, Energy: 149\n",
            "Iteration 4200, Energy: 149\n",
            "Iteration 4300, Energy: 149\n",
            "Iteration 4400, Energy: 149\n",
            "Iteration 4500, Energy: 149\n",
            "Iteration 4600, Energy: 149\n",
            "Iteration 4700, Energy: 149\n",
            "Iteration 4800, Energy: 149\n",
            "Iteration 4900, Energy: 149\n",
            "Iteration 5000, Energy: 149\n",
            "Iteration 5100, Energy: 149\n",
            "Iteration 5200, Energy: 149\n",
            "Iteration 5300, Energy: 149\n",
            "Iteration 5400, Energy: 149\n",
            "Iteration 5500, Energy: 149\n",
            "Iteration 5600, Energy: 149\n",
            "Iteration 5700, Energy: 149\n",
            "Iteration 5800, Energy: 149\n",
            "Iteration 5900, Energy: 149\n",
            "Iteration 6000, Energy: 149\n",
            "Iteration 6100, Energy: 149\n",
            "Iteration 6200, Energy: 149\n",
            "Iteration 6300, Energy: 149\n",
            "Iteration 6400, Energy: 149\n",
            "Iteration 6500, Energy: 149\n",
            "Iteration 6600, Energy: 149\n",
            "Iteration 6700, Energy: 149\n",
            "Iteration 6800, Energy: 149\n",
            "Iteration 6900, Energy: 149\n",
            "Iteration 7000, Energy: 149\n",
            "Iteration 7100, Energy: 149\n",
            "Iteration 7200, Energy: 149\n",
            "Iteration 7300, Energy: 149\n",
            "Iteration 7400, Energy: 149\n",
            "Iteration 7500, Energy: 149\n",
            "Iteration 7600, Energy: 149\n",
            "Iteration 7700, Energy: 149\n",
            "Iteration 7800, Energy: 149\n",
            "Iteration 7900, Energy: 149\n",
            "Iteration 8000, Energy: 149\n",
            "Iteration 8100, Energy: 149\n",
            "Iteration 8200, Energy: 149\n",
            "Iteration 8300, Energy: 149\n",
            "Iteration 8400, Energy: 149\n",
            "Iteration 8500, Energy: 149\n",
            "Iteration 8600, Energy: 149\n",
            "Iteration 8700, Energy: 149\n",
            "Iteration 8800, Energy: 149\n",
            "Iteration 8900, Energy: 149\n",
            "Iteration 9000, Energy: 149\n",
            "Iteration 9100, Energy: 149\n",
            "Iteration 9200, Energy: 149\n",
            "Iteration 9300, Energy: 149\n",
            "Iteration 9400, Energy: 149\n",
            "Iteration 9500, Energy: 149\n",
            "Iteration 9600, Energy: 149\n",
            "Iteration 9700, Energy: 149\n",
            "Iteration 9800, Energy: 149\n",
            "Iteration 9900, Energy: 149\n",
            "Solved Puzzle:\n"
          ]
        },
        {
          "output_type": "display_data",
          "data": {
            "text/plain": [
              "<Figure size 640x480 with 1 Axes>"
            ],
            "image/png": "[encoded data removed]"
          },
          "metadata": {}
        }
      ]
    }
  ]
}