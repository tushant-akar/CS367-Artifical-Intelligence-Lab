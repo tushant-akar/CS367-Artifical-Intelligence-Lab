{
  "nbformat": 4,
  "nbformat_minor": 0,
  "metadata": {
    "colab": {
      "provenance": [],
      "authorship_tag": "ABX9TyOT8UfpIsHs5npQKpa8UqjB",
      "include_colab_link": true
    },
    "kernelspec": {
      "name": "python3",
      "display_name": "Python 3"
    },
    "language_info": {
      "name": "python"
    }
  },
  "cells": [
    {
      "cell_type": "markdown",
      "metadata": {
        "id": "view-in-github",
        "colab_type": "text"
      },
      "source": [
        "<a href=\"https://colab.research.google.com/github/tushant-akar/CS367-Artifical-Intelligence-Lab/blob/main/Marble_Solatire.ipynb\" target=\"_parent\"><img src=\"https://colab.research.google.com/assets/colab-badge.svg\" alt=\"Open In Colab\"/></a>"
      ]
    },
    {
      "cell_type": "code",
      "execution_count": 1,
      "metadata": {
        "id": "ywfmiM2PCLb6"
      },
      "outputs": [],
      "source": [
        "import heapq\n",
        "from typing import List, Tuple\n",
        "import time\n",
        "\n",
        "BOARD_SIZE = 7\n",
        "E, P, X = 0, 1, -1  # Empty, Peg, Invalid"
      ]
    },
    {
      "cell_type": "code",
      "source": [
        "INITIAL_BOARD = [\n",
        "    [X, X, P, P, P, X, X],\n",
        "    [X, X, P, P, P, X, X],\n",
        "    [P, P, P, P, P, P, P],\n",
        "    [P, P, P, E, P, P, P],\n",
        "    [P, P, P, P, P, P, P],\n",
        "    [X, X, P, P, P, X, X],\n",
        "    [X, X, P, P, P, X, X]\n",
        "]\n",
        "\n",
        "MOVES = [(-2, 0), (2, 0), (0, -2), (0, 2)]"
      ],
      "metadata": {
        "id": "tY5M5Ljnljpc"
      },
      "execution_count": 2,
      "outputs": []
    },
    {
      "cell_type": "code",
      "source": [
        "class State:\n",
        "    def __init__(self, board: List[List[int]], pegs: int, moves: List[Tuple[int, int, int, int]]):\n",
        "        self.board = board\n",
        "        self.pegs = pegs\n",
        "        self.moves = moves\n",
        "\n",
        "    def __lt__(self, other):\n",
        "        return self.pegs < other.pegs"
      ],
      "metadata": {
        "id": "G-1_sAv5SDoY"
      },
      "execution_count": 3,
      "outputs": []
    },
    {
      "cell_type": "code",
      "source": [
        "def is_valid_move(board: List[List[int]], row: int, col: int, move: Tuple[int, int]) -> bool:\n",
        "    nr, nc = row + move[0], col + move[1]\n",
        "    mr, mc = row + move[0] // 2, col + move[1] // 2\n",
        "    return (0 <= nr < BOARD_SIZE and 0 <= nc < BOARD_SIZE and\n",
        "            board[row][col] == P and board[mr][mc] == P and board[nr][nc] == E)"
      ],
      "metadata": {
        "id": "iGx6uAN2SGXB"
      },
      "execution_count": 4,
      "outputs": []
    },
    {
      "cell_type": "code",
      "source": [
        "def make_move(board: List[List[int]], row: int, col: int, move: Tuple[int, int]) -> List[List[int]]:\n",
        "    new_board = [row[:] for row in board]\n",
        "    nr, nc = row + move[0], col + move[1]\n",
        "    mr, mc = row + move[0] // 2, col + move[1] // 2\n",
        "    new_board[row][col] = new_board[mr][mc] = E\n",
        "    new_board[nr][nc] = P\n",
        "    return new_board"
      ],
      "metadata": {
        "id": "rBWFnRsGSJN3"
      },
      "execution_count": 5,
      "outputs": []
    },
    {
      "cell_type": "code",
      "source": [
        "def get_successors(state: State) -> List[State]:\n",
        "    return [State(make_move(state.board, r, c, m), state.pegs - 1, state.moves + [(r, c, r + m[0], c + m[1])])\n",
        "            for r in range(BOARD_SIZE) for c in range(BOARD_SIZE) for m in MOVES\n",
        "            if is_valid_move(state.board, r, c, m)]"
      ],
      "metadata": {
        "id": "RSKaTUwISLsE"
      },
      "execution_count": 6,
      "outputs": []
    },
    {
      "cell_type": "code",
      "source": [
        "def is_goal_state(state: State) -> bool:\n",
        "    return state.pegs == 1"
      ],
      "metadata": {
        "id": "ImyEC7z2SOgM"
      },
      "execution_count": 7,
      "outputs": []
    },
    {
      "cell_type": "code",
      "source": [
        "def heuristic1(state: State) -> int:\n",
        "    return state.pegs - 1\n",
        "\n",
        "def heuristic2(state: State) -> int:\n",
        "    return sum(abs(r - 3) + abs(c - 3) for r in range(BOARD_SIZE) for c in range(BOARD_SIZE) if state.board[r][c] == P)"
      ],
      "metadata": {
        "id": "G4A0d8vrSQqD"
      },
      "execution_count": 8,
      "outputs": []
    },
    {
      "cell_type": "code",
      "source": [
        "def search(initial_state: State, heuristic, search_type: str) -> Tuple[State, int, int]:\n",
        "    frontier = [(heuristic(initial_state), 0, initial_state)]\n",
        "    explored = set()\n",
        "    nodes_expanded = 0\n",
        "\n",
        "    while frontier:\n",
        "        _, g, current_state = heapq.heappop(frontier)\n",
        "\n",
        "        if is_goal_state(current_state):\n",
        "            return current_state, nodes_expanded, len(explored)\n",
        "\n",
        "        board_tuple = tuple(map(tuple, current_state.board))\n",
        "        if board_tuple in explored:\n",
        "            continue\n",
        "\n",
        "        explored.add(board_tuple)\n",
        "        nodes_expanded += 1\n",
        "\n",
        "        for successor in get_successors(current_state):\n",
        "            h = heuristic(successor)\n",
        "            if search_type == 'a_star':\n",
        "                f = g + 1 + h\n",
        "            elif search_type == 'best_first':\n",
        "                f = h\n",
        "            else:\n",
        "                f = successor.pegs\n",
        "            heapq.heappush(frontier, (f, g + 1, successor))\n",
        "\n",
        "    return None, nodes_expanded, len(explored)"
      ],
      "metadata": {
        "id": "f0HO763iSS6G"
      },
      "execution_count": 9,
      "outputs": []
    },
    {
      "cell_type": "code",
      "source": [
        "def print_results(algorithm_name: str, result: Tuple[State, int, int], execution_time: float):\n",
        "    solution, nodes_expanded, explored_states = result\n",
        "    if solution:\n",
        "        print(f\"{algorithm_name}:\")\n",
        "        print(f\"  Moves: {len(solution.moves)}\")\n",
        "        print(f\"  Nodes expanded: {nodes_expanded}\")\n",
        "        print(f\"  States explored: {explored_states}\")\n",
        "        print(f\"  Execution time: {execution_time:.4f} seconds\")\n",
        "    else:\n",
        "        print(f\"{algorithm_name} did not find a solution.\")\n",
        "    print()"
      ],
      "metadata": {
        "id": "I-9oys2ASV61"
      },
      "execution_count": 10,
      "outputs": []
    },
    {
      "cell_type": "code",
      "source": [
        "def main():\n",
        "    initial_state = State(INITIAL_BOARD, sum(row.count(P) for row in INITIAL_BOARD), [])\n",
        "\n",
        "    algorithms = [\n",
        "        (\"Priority Queue Search\", lambda s: search(s, heuristic1, 'priority_queue')),\n",
        "        (\"Best-First Search (h1)\", lambda s: search(s, heuristic1, 'best_first')),\n",
        "        (\"Best-First Search (h2)\", lambda s: search(s, heuristic2, 'best_first')),\n",
        "        (\"A* Search (h1)\", lambda s: search(s, heuristic1, 'a_star')),\n",
        "        (\"A* Search (h2)\", lambda s: search(s, heuristic2, 'a_star'))\n",
        "    ]\n",
        "\n",
        "    for name, algorithm in algorithms:\n",
        "        start_time = time.time()\n",
        "        result = algorithm(initial_state)\n",
        "        execution_time = time.time() - start_time\n",
        "        print_results(name, result, execution_time)"
      ],
      "metadata": {
        "id": "_5tAOiSsSXoQ"
      },
      "execution_count": 11,
      "outputs": []
    },
    {
      "cell_type": "code",
      "source": [
        "if __name__ == \"__main__\":\n",
        "    main()"
      ],
      "metadata": {
        "id": "CduwHdrUSaVM",
        "colab": {
          "base_uri": "https://localhost:8080/"
        },
        "outputId": "6bf7f016-3d29-49ae-f0d8-a332a3be4973"
      },
      "execution_count": null,
      "outputs": [
        {
          "output_type": "stream",
          "name": "stdout",
          "text": [
            "Priority Queue Search:\n",
            "  Moves: 31\n",
            "  Nodes expanded: 11426\n",
            "  States explored: 11426\n",
            "  Execution time: 3.4096 seconds\n",
            "\n",
            "Best-First Search (h1):\n",
            "  Moves: 31\n",
            "  Nodes expanded: 11426\n",
            "  States explored: 11426\n",
            "  Execution time: 2.2350 seconds\n",
            "\n",
            "Best-First Search (h2):\n",
            "  Moves: 31\n",
            "  Nodes expanded: 139533\n",
            "  States explored: 139533\n",
            "  Execution time: 37.2171 seconds\n",
            "\n"
          ]
        }
      ]
    }
  ]
}