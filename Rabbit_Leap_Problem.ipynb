{
  "nbformat": 4,
  "nbformat_minor": 0,
  "metadata": {
    "colab": {
      "provenance": [],
      "authorship_tag": "ABX9TyP9UUzwkQy56Ne/7ImjRykg",
      "include_colab_link": true
    },
    "kernelspec": {
      "name": "python3",
      "display_name": "Python 3"
    },
    "language_info": {
      "name": "python"
    }
  },
  "cells": [
    {
      "cell_type": "markdown",
      "metadata": {
        "id": "view-in-github",
        "colab_type": "text"
      },
      "source": [
        "<a href=\"https://colab.research.google.com/github/tushant-akar/CS367-Artifical-Intelligence-Lab/blob/main/Rabbit_Leap_Problem.ipynb\" target=\"_parent\"><img src=\"https://colab.research.google.com/assets/colab-badge.svg\" alt=\"Open In Colab\"/></a>"
      ]
    },
    {
      "cell_type": "code",
      "execution_count": 6,
      "metadata": {
        "id": "N-GM5LFj70wj"
      },
      "outputs": [],
      "source": [
        "from collections import deque"
      ]
    },
    {
      "cell_type": "code",
      "source": [
        "class Node:\n",
        "    def __init__(self, state, parent=None):\n",
        "        self.state = state\n",
        "        self.parent = parent"
      ],
      "metadata": {
        "id": "5zrpGe9W76H8"
      },
      "execution_count": 11,
      "outputs": []
    },
    {
      "cell_type": "code",
      "source": [
        "def get_successors(node):\n",
        "    successors = []\n",
        "    state = node.state\n",
        "    empty_index = state.index('_')\n",
        "\n",
        "    # Possible moves: step forward or jump over one rabbit\n",
        "    for i, rabbit in enumerate(state):\n",
        "        if rabbit == 'E' and i < empty_index:\n",
        "            if i + 1 == empty_index or (i + 2 == empty_index and state[i+1] == 'W'):\n",
        "                new_state = state[:i] + '_' + state[i+1:empty_index] + 'E' + state[empty_index+1:]\n",
        "                successors.append(Node(new_state, node))\n",
        "        elif rabbit == 'W' and i > empty_index:\n",
        "            if i - 1 == empty_index or (i - 2 == empty_index and state[i-1] == 'E'):\n",
        "                new_state = state[:empty_index] + 'W' + state[empty_index+1:i] + '_' + state[i+1:]\n",
        "                successors.append(Node(new_state, node))\n",
        "    # print(f\"Current state: \\n {state}\")\n",
        "    return successors"
      ],
      "metadata": {
        "id": "stH0Yu7F78Fr"
      },
      "execution_count": 12,
      "outputs": []
    },
    {
      "cell_type": "code",
      "source": [
        "def bfs(start_state, goal_state):\n",
        "    start_node = Node(start_state)\n",
        "    queue = deque([start_node])\n",
        "    visited = set()\n",
        "    nodes_explored = 0\n",
        "\n",
        "    while queue:\n",
        "        node = queue.popleft()\n",
        "        if node.state == goal_state:\n",
        "            path = []\n",
        "            while node:\n",
        "                path.append(node.state)\n",
        "                node = node.parent\n",
        "            print('Total nodes explored:', nodes_explored)\n",
        "            return path[::-1]\n",
        "\n",
        "        if node.state not in visited:\n",
        "            visited.add(node.state)\n",
        "            nodes_explored += 1\n",
        "            # print(node.state)\n",
        "            for successor in get_successors(node):\n",
        "                queue.append(successor)\n",
        "\n",
        "    print('Total nodes explored:', nodes_explored)\n",
        "    return None"
      ],
      "metadata": {
        "id": "YHUuaZIA7-IK"
      },
      "execution_count": 13,
      "outputs": []
    },
    {
      "cell_type": "code",
      "source": [
        "# Define start and goal states\n",
        "start_state = 'EEE_WWW'\n",
        "goal_state = 'WWW_EEE'\n",
        "\n",
        "# Find solution\n",
        "solution = bfs(start_state, goal_state)\n",
        "\n",
        "if solution:\n",
        "    print(\"Solution found:\")\n",
        "    for step in solution:\n",
        "        print(step)\n",
        "else:\n",
        "    print(\"No solution found.\")"
      ],
      "metadata": {
        "colab": {
          "base_uri": "https://localhost:8080/"
        },
        "id": "JkVgEWgj8AlM",
        "outputId": "e2f10139-9e7a-4a7d-9121-8440e4a960cc"
      },
      "execution_count": 14,
      "outputs": [
        {
          "output_type": "stream",
          "name": "stdout",
          "text": [
            "Total nodes explored: 71\n",
            "Solution found:\n",
            "EEE_WWW\n",
            "EE_EWWW\n",
            "EEWE_WW\n",
            "EEWEW_W\n",
            "EEW_WEW\n",
            "E_WEWEW\n",
            "_EWEWEW\n",
            "WE_EWEW\n",
            "WEWE_EW\n",
            "WEWEWE_\n",
            "WEWEW_E\n",
            "WEW_WEE\n",
            "W_WEWEE\n",
            "WW_EWEE\n",
            "WWWE_EE\n",
            "WWW_EEE\n"
          ]
        }
      ]
    }
  ]
}