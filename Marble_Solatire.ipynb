{
  "nbformat": 4,
  "nbformat_minor": 0,
  "metadata": {
    "colab": {
      "provenance": [],
      "authorship_tag": "ABX9TyMeFHoY2rzIGLPkUiZ5ZoEi",
      "include_colab_link": true
    },
    "kernelspec": {
      "name": "python3",
      "display_name": "Python 3"
    },
    "language_info": {
      "name": "python"
    }
  },
  "cells": [
    {
      "cell_type": "markdown",
      "metadata": {
        "id": "view-in-github",
        "colab_type": "text"
      },
      "source": [
        "<a href=\"https://colab.research.google.com/github/tushant-akar/CS367-Artifical-Intelligence-Lab/blob/main/Marble_Solatire.ipynb\" target=\"_parent\"><img src=\"https://colab.research.google.com/assets/colab-badge.svg\" alt=\"Open In Colab\"/></a>"
      ]
    },
    {
      "cell_type": "code",
      "source": [
        "import heapq\n",
        "import time\n",
        "from collections import deque"
      ],
      "metadata": {
        "id": "MocuRKqlqQWQ"
      },
      "execution_count": 3,
      "outputs": []
    },
    {
      "cell_type": "code",
      "source": [
        "class Node:\n",
        "    def __init__(self, board, g=0, h=0, path=None):\n",
        "        self.board = board\n",
        "        self.g = g\n",
        "        self.h = h\n",
        "        self.f = g + h\n",
        "        self.path = path if path is not None else []\n",
        "\n",
        "    def __lt__(self, other):\n",
        "        return self.f < other.f\n",
        "\n",
        "directions = [(0, -2), (0, 2), (2, 0), (-2, 0)]"
      ],
      "metadata": {
        "id": "MAZ9f5rzuzgp"
      },
      "execution_count": 4,
      "outputs": []
    },
    {
      "cell_type": "code",
      "source": [
        "def is_valid(board, x, y, dx, dy):\n",
        "    if 0 <= x + dx < 7 and 0 <= y + dy < 7 and board[x][y] == 1:\n",
        "        if board[x + dx // 2][y + dy // 2] == 1 and board[x + dx][y + dy] == 0:\n",
        "            return True\n",
        "    return False\n",
        "\n",
        "def apply_move(board, x, y, dx, dy):\n",
        "    new_board = [row[:] for row in board]\n",
        "    new_board[x][y] = 0\n",
        "    new_board[x + dx // 2][y + dy // 2] = 0\n",
        "    new_board[x + dx][y + dy] = 1\n",
        "    return new_board"
      ],
      "metadata": {
        "id": "oBZZSPF-u3EG"
      },
      "execution_count": 5,
      "outputs": []
    },
    {
      "cell_type": "code",
      "source": [
        "def num_marbles(board):\n",
        "    return sum(row.count(1) for row in board)"
      ],
      "metadata": {
        "id": "RhwLLPEHu7bj"
      },
      "execution_count": 6,
      "outputs": []
    },
    {
      "cell_type": "code",
      "source": [
        "def manhattan_heuristic(board):\n",
        "    center = (3, 3)\n",
        "    distance = 0\n",
        "    for i in range(len(board)):\n",
        "        for j in range(len(board[i])):\n",
        "            if board[i][j] == 1:\n",
        "                distance += abs(i - center[0]) + abs(j - center[1])\n",
        "    return distance\n",
        "\n",
        "def exponential_heuristic(board):\n",
        "    center = (3, 3)\n",
        "    exp_distance = 0\n",
        "    for i in range(len(board)):\n",
        "        for j in range(len(board[i])):\n",
        "            if board[i][j] == 1:\n",
        "                d = max(abs(i - center[0]), abs(j - center[1]))\n",
        "                exp_distance += 2 ** d\n",
        "    return exp_distance"
      ],
      "metadata": {
        "id": "SbZphLECu_Rc"
      },
      "execution_count": 7,
      "outputs": []
    },
    {
      "cell_type": "code",
      "source": [
        "def get_successors(node):\n",
        "    successors = []\n",
        "    for x in range(7):\n",
        "        for y in range(7):\n",
        "            if node.board[x][y] == 1:\n",
        "                for dx, dy in directions:\n",
        "                    if is_valid(node.board, x, y, dx, dy):\n",
        "                        new_board = apply_move(node.board, x, y, dx, dy)\n",
        "                        successor_node = Node(new_board, g=node.g+1, path=node.path + [(x, y, x + dx, y + dy)])\n",
        "                        successors.append(successor_node)\n",
        "    return successors\n",
        "\n",
        "def is_goal_state(board):\n",
        "    return num_marbles(board) == 1 and board[3][3] == 1"
      ],
      "metadata": {
        "id": "OY-7LoM0vCsX"
      },
      "execution_count": 8,
      "outputs": []
    },
    {
      "cell_type": "code",
      "source": [
        "def best_first_search(start_board, heuristic_func):\n",
        "    start_node = Node(start_board)\n",
        "    frontier = [(heuristic_func(start_board), start_node)]\n",
        "    visited = set()\n",
        "    nodes_expanded = 0\n",
        "\n",
        "    while frontier:\n",
        "        _, current_node = heapq.heappop(frontier)\n",
        "        nodes_expanded += 1\n",
        "\n",
        "        if is_goal_state(current_node.board):\n",
        "            return current_node.path, nodes_expanded\n",
        "\n",
        "        board_tuple = tuple(map(tuple, current_node.board))\n",
        "        if board_tuple not in visited:\n",
        "            visited.add(board_tuple)\n",
        "            for successor in get_successors(current_node):\n",
        "                heapq.heappush(frontier, (heuristic_func(successor.board), successor))\n",
        "\n",
        "    return None, nodes_expanded"
      ],
      "metadata": {
        "id": "fkCAha1jvG3z"
      },
      "execution_count": 9,
      "outputs": []
    },
    {
      "cell_type": "code",
      "source": [
        "def a_star_search(start_board, heuristic_func):\n",
        "    start_node = Node(start_board, h=heuristic_func(start_board))\n",
        "    frontier = [(start_node.f, start_node)]\n",
        "    visited = set()\n",
        "    nodes_expanded = 0\n",
        "\n",
        "    while frontier:\n",
        "        _, current_node = heapq.heappop(frontier)\n",
        "        nodes_expanded += 1\n",
        "\n",
        "        if is_goal_state(current_node.board):\n",
        "            return current_node.path, nodes_expanded\n",
        "\n",
        "        board_tuple = tuple(map(tuple, current_node.board))\n",
        "        if board_tuple not in visited:\n",
        "            visited.add(board_tuple)\n",
        "            for successor in get_successors(current_node):\n",
        "                successor.h = heuristic_func(successor.board)\n",
        "                successor.f = successor.g + successor.h\n",
        "                heapq.heappush(frontier, (successor.f, successor))\n",
        "\n",
        "    return None, nodes_expanded"
      ],
      "metadata": {
        "id": "LMMuHvQHvKBn"
      },
      "execution_count": 10,
      "outputs": []
    },
    {
      "cell_type": "code",
      "source": [
        "def uniform_cost_search(start_board):\n",
        "    start_node = Node(start_board)\n",
        "    frontier = [(0, start_node)]\n",
        "    visited = set()\n",
        "    nodes_expanded = 0\n",
        "\n",
        "    while frontier:\n",
        "        _, current_node = heapq.heappop(frontier)\n",
        "        nodes_expanded += 1\n",
        "\n",
        "        if is_goal_state(current_node.board):\n",
        "            return current_node.path, nodes_expanded\n",
        "\n",
        "        board_tuple = tuple(map(tuple, current_node.board))\n",
        "        if board_tuple not in visited:\n",
        "            visited.add(board_tuple)\n",
        "            for successor in get_successors(current_node):\n",
        "                heapq.heappush(frontier, (successor.g, successor))\n",
        "\n",
        "    return None, nodes_expanded"
      ],
      "metadata": {
        "id": "dmxGYRkQvMW1"
      },
      "execution_count": 11,
      "outputs": []
    },
    {
      "cell_type": "code",
      "source": [
        "def compare_algorithms(initial_board):\n",
        "    algorithms = [\n",
        "        (\"Best First Search (Manhattan)\", lambda b: best_first_search(b, manhattan_heuristic)),\n",
        "        (\"Best First Search (Exponential)\", lambda b: best_first_search(b, exponential_heuristic)),\n",
        "        (\"A* (Manhattan)\", lambda b: a_star_search(b, manhattan_heuristic)),\n",
        "        (\"A* (Exponential)\", lambda b: a_star_search(b, exponential_heuristic)),\n",
        "        (\"Priority Queue Search\", lambda b: uniform_cost_search(b))\n",
        "    ]\n",
        "\n",
        "    results = []\n",
        "\n",
        "    for name, algo in algorithms:\n",
        "        start_time = time.time()\n",
        "        solution, nodes_expanded = algo(initial_board)\n",
        "        end_time = time.time()\n",
        "\n",
        "        results.append({\n",
        "            \"name\": name,\n",
        "            \"solution\": solution,\n",
        "            \"nodes_expanded\": nodes_expanded,\n",
        "            \"time\": end_time - start_time\n",
        "        })\n",
        "\n",
        "    return results"
      ],
      "metadata": {
        "id": "GzXwgrkxvPBv"
      },
      "execution_count": 12,
      "outputs": []
    },
    {
      "cell_type": "code",
      "source": [
        "initial_board = [\n",
        "    [-1, -1, 1, 1, 1, -1, -1],\n",
        "    [-1, -1, 1, 1, 1, -1, -1],\n",
        "    [1, 1, 1, 1, 1, 1, 1],\n",
        "    [1, 1, 1, 0, 1, 1, 1],\n",
        "    [1, 1, 1, 1, 1, 1, 1],\n",
        "    [-1, -1, 1, 1, 1, -1, -1],\n",
        "    [-1, -1, 1, 1, 1, -1, -1]\n",
        "]\n",
        "\n",
        "results = compare_algorithms(initial_board)\n",
        "\n",
        "for result in results:\n",
        "    print(f\"\\n{result['name']}:\")\n",
        "    print(f\"  Solution found: {'Yes' if result['solution'] else 'No'}\")\n",
        "    print(f\"  Nodes expanded: {result['nodes_expanded']}\")\n",
        "    print(f\"  Time taken: {result['time']:.2f} seconds\")\n",
        "    if result['solution']:\n",
        "        print(f\"  Solution length: {len(result['solution'])} moves\")\n",
        "        print(f\"  Solution path: {result['solution']}\")"
      ],
      "metadata": {
        "id": "b9_2TBxNvRls"
      },
      "execution_count": null,
      "outputs": []
    }
  ]
}