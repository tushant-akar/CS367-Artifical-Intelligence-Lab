{
  "nbformat": 4,
  "nbformat_minor": 0,
  "metadata": {
    "colab": {
      "provenance": [],
      "authorship_tag": "ABX9TyMW7wkI3s9MRX+OU/LRAyh7",
      "include_colab_link": true
    },
    "kernelspec": {
      "name": "python3",
      "display_name": "Python 3"
    },
    "language_info": {
      "name": "python"
    }
  },
  "cells": [
    {
      "cell_type": "markdown",
      "metadata": {
        "id": "view-in-github",
        "colab_type": "text"
      },
      "source": [
        "<a href=\"https://colab.research.google.com/github/tushant-akar/CS367-Artifical-Intelligence-Lab/blob/main/Traveling_Salesman.ipynb\" target=\"_parent\"><img src=\"https://colab.research.google.com/assets/colab-badge.svg\" alt=\"Open In Colab\"/></a>"
      ]
    },
    {
      "cell_type": "code",
      "execution_count": 6,
      "metadata": {
        "id": "MA8oTFs0iUyU"
      },
      "outputs": [],
      "source": [
        "import math\n",
        "import random"
      ]
    },
    {
      "cell_type": "code",
      "source": [
        "locations = [\n",
        "    \"Jaipur\", \"Udaipur\", \"Jodhpur\", \"Bikaner\", \"Mount Abu\", \"Ajmer\",\n",
        "    \"Pushkar\", \"Jaisalmer\", \"Ranthambore\", \"Bundi\", \"Alwar\", \"Chittorgarh\",\n",
        "    \"Kota\", \"Bharatpur\", \"Dungarpur\", \"Kumbhalgarh\", \"Sawai Madhopur\",\n",
        "    \"Pali\", \"Shekhawati\", \"Sariska\"\n",
        "]\n",
        "\n",
        "distance_matrix = [[0, 400, 350, 450, 520, 130, 150, 560, 350, 300, 150, 320, 250, 190, 280, 310, 400, 430, 500, 410],\n",
        "                   [400, 0, 270, 660, 165, 370, 380, 490, 600, 460, 550, 180, 480, 430, 110, 95, 560, 230, 670, 590],\n",
        "                   [350, 270, 0, 450, 380, 210, 230, 290, 470, 410, 340, 300, 330, 270, 380, 350, 500, 210, 560, 400],\n",
        "                   [450, 660, 450, 0, 690, 540, 550, 330, 690, 660, 620, 510, 500, 520, 640, 610, 710, 430, 660, 680],\n",
        "                   [520, 165, 380, 690, 0, 380, 390, 610, 720, 600, 600, 280, 560, 520, 190, 170, 640, 310, 770, 650],\n",
        "                   [130, 370, 210, 540, 380, 0, 20, 460, 440, 380, 250, 270, 280, 190, 360, 340, 440, 230, 520, 430],\n",
        "                   [150, 380, 230, 550, 390, 20, 0, 470, 450, 400, 270, 290, 300, 210, 370, 350, 450, 240, 530, 440],\n",
        "                   [560, 490, 290, 330, 610, 460, 470, 0, 750, 680, 660, 590, 560, 580, 700, 670, 780, 500, 640, 760],\n",
        "                   [350, 600, 470, 690, 720, 440, 450, 750, 0, 140, 450, 400, 240, 190, 650, 630, 60, 340, 720, 180],\n",
        "                   [300, 460, 410, 660, 600, 380, 400, 680, 140, 0, 480, 240, 210, 140, 540, 510, 160, 210, 680, 270],\n",
        "                   [150, 550, 340, 620, 600, 250, 270, 660, 450, 480, 0, 450, 280, 350, 520, 500, 460, 230, 680, 520],\n",
        "                   [320, 180, 300, 510, 280, 270, 290, 590, 400, 240, 450, 0, 390, 360, 170, 150, 460, 270, 600, 510],\n",
        "                   [250, 480, 330, 500, 560, 280, 300, 560, 240, 210, 280, 390, 0, 240, 500, 470, 210, 210, 600, 450],\n",
        "                   [190, 430, 270, 520, 520, 190, 210, 580, 190, 140, 350, 360, 240, 0, 580, 550, 150, 240, 700, 300],\n",
        "                   [280, 110, 380, 640, 190, 360, 370, 700, 650, 540, 520, 170, 500, 580, 0, 190, 640, 450, 770, 570],\n",
        "                   [310, 95, 350, 610, 170, 340, 350, 670, 630, 510, 500, 150, 470, 550, 190, 0, 610, 420, 740, 540],\n",
        "                   [400, 560, 500, 710, 640, 440, 450, 780, 60, 160, 460, 460, 210, 150, 640, 610, 0, 340, 760, 180],\n",
        "                   [430, 230, 210, 430, 310, 230, 240, 500, 340, 210, 230, 270, 210, 240, 450, 420, 340, 0, 600, 500],\n",
        "                   [500, 670, 560, 660, 770, 520, 530, 640, 720, 680, 680, 600, 600, 700, 770, 740, 760, 600, 0, 730],\n",
        "                   [410, 590, 400, 680, 650, 430, 440, 760, 180, 270, 520, 510, 450, 300, 570, 540, 180, 500, 730, 0]]"
      ],
      "metadata": {
        "id": "R1XoBpD1imNA"
      },
      "execution_count": 7,
      "outputs": []
    },
    {
      "cell_type": "code",
      "source": [
        "def total_distance(tour, distance_matrix):\n",
        "    dist = 0\n",
        "    for i in range(len(tour)):\n",
        "        dist += distance_matrix[tour[i]][tour[(i + 1) % len(tour)]]\n",
        "    return dist"
      ],
      "metadata": {
        "id": "jfmyiLFCipf2"
      },
      "execution_count": 8,
      "outputs": []
    },
    {
      "cell_type": "code",
      "source": [
        "def simulated_annealing(locations, distance_matrix, initial_temperature=10000, cooling_rate=0.995, min_temperature=1):\n",
        "    num_cities = len(locations)\n",
        "\n",
        "    # Initialize with a random tour\n",
        "    current_tour = list(range(num_cities))\n",
        "    random.shuffle(current_tour)\n",
        "    current_distance = total_distance(current_tour, distance_matrix)\n",
        "\n",
        "    best_tour = current_tour[:]\n",
        "    best_distance = current_distance\n",
        "\n",
        "    temperature = initial_temperature\n",
        "\n",
        "    while temperature > min_temperature:\n",
        "        # Generate a neighbor by swapping two cities\n",
        "        new_tour = current_tour[:]\n",
        "        i, j = random.sample(range(num_cities), 2)\n",
        "        new_tour[i], new_tour[j] = new_tour[j], new_tour[i]\n",
        "\n",
        "        new_distance = total_distance(new_tour, distance_matrix)\n",
        "\n",
        "        # Accept new solution based on the probability\n",
        "        if new_distance < current_distance or random.random() < math.exp((current_distance - new_distance) / temperature):\n",
        "            current_tour = new_tour[:]\n",
        "            current_distance = new_distance\n",
        "\n",
        "            # Update best tour found so far\n",
        "            if new_distance < best_distance:\n",
        "                best_tour = new_tour[:]\n",
        "                best_distance = new_distance\n",
        "\n",
        "        # Cool down the temperature\n",
        "        temperature *= cooling_rate\n",
        "\n",
        "    return best_tour, best_distance"
      ],
      "metadata": {
        "id": "YBesp-IJir77"
      },
      "execution_count": 9,
      "outputs": []
    },
    {
      "cell_type": "code",
      "source": [
        "best_tour, best_distance = simulated_annealing(locations, distance_matrix)\n",
        "\n",
        "print(\"Best Tour:\", [locations[i] for i in best_tour])\n",
        "print(\"Minimum Distance:\", best_distance)"
      ],
      "metadata": {
        "colab": {
          "base_uri": "https://localhost:8080/"
        },
        "id": "x4HQjX9viwhE",
        "outputId": "320c9bf7-c656-4aaf-b518-ea472c094007"
      },
      "execution_count": 10,
      "outputs": [
        {
          "output_type": "stream",
          "name": "stdout",
          "text": [
            "Best Tour: ['Udaipur', 'Jaisalmer', 'Jodhpur', 'Sariska', 'Sawai Madhopur', 'Ranthambore', 'Bundi', 'Pali', 'Bikaner', 'Shekhawati', 'Jaipur', 'Alwar', 'Kota', 'Bharatpur', 'Pushkar', 'Ajmer', 'Chittorgarh', 'Kumbhalgarh', 'Mount Abu', 'Dungarpur']\n",
            "Minimum Distance: 5150\n"
          ]
        }
      ]
    }
  ]
}