{
  "nbformat": 4,
  "nbformat_minor": 0,
  "metadata": {
    "colab": {
      "provenance": [],
      "authorship_tag": "ABX9TyPmPpiF5MFWuUKls+af+Eg7",
      "include_colab_link": true
    },
    "kernelspec": {
      "name": "python3",
      "display_name": "Python 3"
    },
    "language_info": {
      "name": "python"
    }
  },
  "cells": [
    {
      "cell_type": "markdown",
      "metadata": {
        "id": "view-in-github",
        "colab_type": "text"
      },
      "source": [
        "<a href=\"https://colab.research.google.com/github/tushant-akar/CS367-Artifical-Intelligence-Lab/blob/main/Raag_Bhairav_Melody.ipynb\" target=\"_parent\"><img src=\"https://colab.research.google.com/assets/colab-badge.svg\" alt=\"Open In Colab\"/></a>"
      ]
    },
    {
      "cell_type": "code",
      "source": [
        "!pip install midiutil"
      ],
      "metadata": {
        "colab": {
          "base_uri": "https://localhost:8080/"
        },
        "id": "-dWC36NAZz5O",
        "outputId": "1331259c-a5eb-46a6-e25f-8254cee00e65"
      },
      "execution_count": 2,
      "outputs": [
        {
          "output_type": "stream",
          "name": "stdout",
          "text": [
            "Collecting midiutil\n",
            "  Downloading MIDIUtil-1.2.1.tar.gz (1.0 MB)\n",
            "\u001b[?25l     \u001b[90m━━━━━━━━━━━━━━━━━━━━━━━━━━━━━━━━━━━━━━━━\u001b[0m \u001b[32m0.0/1.0 MB\u001b[0m \u001b[31m?\u001b[0m eta \u001b[36m-:--:--\u001b[0m\r\u001b[2K     \u001b[91m━━━━━━━━\u001b[0m\u001b[90m╺\u001b[0m\u001b[90m━━━━━━━━━━━━━━━━━━━━━━━━━━━━━━━\u001b[0m \u001b[32m0.2/1.0 MB\u001b[0m \u001b[31m6.7 MB/s\u001b[0m eta \u001b[36m0:00:01\u001b[0m\r\u001b[2K     \u001b[91m━━━━━━━━━━━━━━━━━━━━━━━━━━━━━━━━━━━━━━━\u001b[0m\u001b[91m╸\u001b[0m \u001b[32m1.0/1.0 MB\u001b[0m \u001b[31m13.5 MB/s\u001b[0m eta \u001b[36m0:00:01\u001b[0m\r\u001b[2K     \u001b[90m━━━━━━━━━━━━━━━━━━━━━━━━━━━━━━━━━━━━━━━━\u001b[0m \u001b[32m1.0/1.0 MB\u001b[0m \u001b[31m10.2 MB/s\u001b[0m eta \u001b[36m0:00:00\u001b[0m\n",
            "\u001b[?25h  Preparing metadata (setup.py) ... \u001b[?25l\u001b[?25hdone\n",
            "Building wheels for collected packages: midiutil\n",
            "  Building wheel for midiutil (setup.py) ... \u001b[?25l\u001b[?25hdone\n",
            "  Created wheel for midiutil: filename=MIDIUtil-1.2.1-py3-none-any.whl size=54567 sha256=370ff36525fe382cd5f0702e2aa8f96b74c5135d195ed23a0cc0cfc3ff7b0637\n",
            "  Stored in directory: /root/.cache/pip/wheels/af/43/4a/00b5e4f2fe5e2cd6e92b461995a3a97a2cebb30ab5783501b0\n",
            "Successfully built midiutil\n",
            "Installing collected packages: midiutil\n",
            "Successfully installed midiutil-1.2.1\n"
          ]
        }
      ]
    },
    {
      "cell_type": "code",
      "execution_count": 4,
      "metadata": {
        "id": "LDR3cog5Zm1m"
      },
      "outputs": [],
      "source": [
        "import random\n",
        "import math\n",
        "from midiutil import MIDIFile\n",
        "\n",
        "BHAIRAV_NOTES = ['S', 'r', 'G', 'm', 'P', 'd', 'N']\n",
        "NOTE_TO_MIDI = {'S': 60, 'r': 61, 'G': 64, 'm': 65, 'P': 67, 'd': 68, 'N': 71}\n",
        "\n",
        "FUNDAMENTAL_PHRASES = [\n",
        "    'SrS', 'SGm', 'mPd', 'NdP', 'SNS',\n",
        "    'SrGm', 'mPdN', 'SGPNS', 'SrGmP'\n",
        "]"
      ]
    },
    {
      "cell_type": "code",
      "source": [
        "def create_initial_melody(length):\n",
        "    return ''.join(random.choice(BHAIRAV_NOTES) for _ in range(length))\n",
        "\n",
        "def calculate_energy(melody):\n",
        "    energy = 0\n",
        "\n",
        "    for phrase in FUNDAMENTAL_PHRASES:\n",
        "        if phrase in melody:\n",
        "            energy -= 10\n",
        "\n",
        "    if not melody.startswith('S'):\n",
        "        energy += 5\n",
        "    if not melody.endswith('S'):\n",
        "        energy += 5\n",
        "\n",
        "    for i in range(len(melody) - 1):\n",
        "        if melody[i] == melody[i+1]:\n",
        "            energy += 2\n",
        "\n",
        "    if len(set(melody)) != len(BHAIRAV_NOTES):\n",
        "        energy += 10\n",
        "\n",
        "    return energy"
      ],
      "metadata": {
        "id": "GAQ8PcI8aGn4"
      },
      "execution_count": 5,
      "outputs": []
    },
    {
      "cell_type": "code",
      "source": [
        "def get_neighbor(melody):\n",
        "    new_melody = list(melody)\n",
        "    index = random.randint(0, len(melody) - 1)\n",
        "    new_melody[index] = random.choice(BHAIRAV_NOTES)\n",
        "    return ''.join(new_melody)"
      ],
      "metadata": {
        "id": "3mJKy_VwaLrR"
      },
      "execution_count": 6,
      "outputs": []
    },
    {
      "cell_type": "code",
      "source": [
        "def simulated_annealing(initial_temp, cooling_rate, melody_length):\n",
        "    current_melody = create_initial_melody(melody_length)\n",
        "    current_energy = calculate_energy(current_melody)\n",
        "    best_melody = current_melody\n",
        "    best_energy = current_energy\n",
        "    temperature = initial_temp\n",
        "\n",
        "    while temperature > 0.1:\n",
        "        neighbor = get_neighbor(current_melody)\n",
        "        neighbor_energy = calculate_energy(neighbor)\n",
        "\n",
        "        if neighbor_energy < current_energy or random.random() < math.exp((current_energy - neighbor_energy) / temperature):\n",
        "            current_melody = neighbor\n",
        "            current_energy = neighbor_energy\n",
        "\n",
        "        if current_energy < best_energy:\n",
        "            best_melody = current_melody\n",
        "            best_energy = current_energy\n",
        "\n",
        "        temperature *= cooling_rate\n",
        "\n",
        "    return best_melody, best_energy"
      ],
      "metadata": {
        "id": "SnMxa0vqaPLv"
      },
      "execution_count": 7,
      "outputs": []
    },
    {
      "cell_type": "code",
      "source": [
        "def melody_to_midi(melody, output_file=\"bhairav_melody.mid\"):\n",
        "    midi = MIDIFile(1)\n",
        "    track = 0\n",
        "    time = 0\n",
        "    midi.addTrackName(track, time, \"Raag Bhairav Melody\")\n",
        "    midi.addTempo(track, time, 70)\n",
        "\n",
        "    for note in melody:\n",
        "        midi.addNote(track, 0, NOTE_TO_MIDI[note], time, 1, 100)\n",
        "        time += 1\n",
        "\n",
        "    with open(output_file, \"wb\") as output_file:\n",
        "        midi.writeFile(output_file)"
      ],
      "metadata": {
        "id": "gx39RkF3aRU6"
      },
      "execution_count": 8,
      "outputs": []
    },
    {
      "cell_type": "code",
      "source": [
        "def main():\n",
        "    initial_temp = 100.0\n",
        "    cooling_rate = 0.995\n",
        "    melody_length = 32\n",
        "\n",
        "    best_melody, best_energy = simulated_annealing(initial_temp, cooling_rate, melody_length)\n",
        "    print(\"Generated Melody:\", best_melody)\n",
        "    print(\"Energy Score:\", best_energy)\n",
        "\n",
        "    midi_file = \"bhairav_melody.mid\"\n",
        "    melody_to_midi(best_melody, midi_file)\n",
        "    print(f\"MIDI file '{midi_file}' generated.\")\n",
        "\n",
        "if __name__ == \"__main__\":\n",
        "    main()"
      ],
      "metadata": {
        "colab": {
          "base_uri": "https://localhost:8080/"
        },
        "id": "r8NM7pz8aS67",
        "outputId": "07f6f008-8183-4a8b-a821-285efdc2cb90"
      },
      "execution_count": 9,
      "outputs": [
        {
          "output_type": "stream",
          "name": "stdout",
          "text": [
            "Generated Melody: SrNSrSrGmPdNmSrSGmNdSNSNdPGmdGdG\n",
            "Energy Score: -75\n",
            "MIDI file 'bhairav_melody.mid' generated.\n"
          ]
        }
      ]
    },
    {
      "cell_type": "code",
      "source": [],
      "metadata": {
        "id": "FS2KzASFaTQy"
      },
      "execution_count": null,
      "outputs": []
    }
  ]
}